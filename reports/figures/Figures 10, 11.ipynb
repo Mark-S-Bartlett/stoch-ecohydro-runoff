{
 "cells": [
  {
   "cell_type": "code",
   "execution_count": 0,
   "metadata": {
    "application/vnd.databricks.v1+cell": {
     "cellMetadata": {},
     "inputWidgets": {},
     "nuid": "745893db-81c9-474a-a6f4-a9630dca486d",
     "showTitle": false,
     "tableResultSettingsMap": {},
     "title": ""
    }
   },
   "outputs": [],
   "source": [
    "import geopandas as gpd\n",
    "import matplotlib.pyplot as plt\n",
    "import pandas as pd\n",
    "from shapely import wkt\n",
    "import contextily as cx\n",
    "import matplotlib as mpl\n",
    "\n",
    "\n",
    "def plot_rmse_geodata_from_csv(\n",
    "    geojson_path: str,\n",
    "    rmse_csv_path: str,\n",
    "    rmse_site_col: str = \"usgs_site_no\",\n",
    "    rmse_val_col: str = \"NSE\",\n",
    "    geo_site_col: str = \"site_no\",\n",
    "    geometry_col: str = \"geometry2\",\n",
    "    save_path: str = \"final_plot.png\",\n",
    "    figsize: tuple = (12, 12),\n",
    "    legend_label: str = \"NSE\"\n",
    "):\n",
    "\n",
    "    # Read geospatial and tabular data\n",
    "    gdf = gpd.read_file(geojson_path)\n",
    "    rmse_df = pd.read_csv(rmse_csv_path)\n",
    "\n",
    "    if isinstance(gdf[geometry_col].iloc[0], str):\n",
    "        gdf[geometry_col] = gdf[geometry_col].apply(wkt.loads)\n",
    "\n",
    "\n",
    "    gdf = gdf.set_geometry(geometry_col).set_crs(\"EPSG:4326\")\n",
    "\n",
    "    gdf[geo_site_col] = (\n",
    "    gdf[geo_site_col]\n",
    "      .astype(int)         \n",
    "      .astype(str)\n",
    "      .str.zfill(8)        \n",
    "    )\n",
    "    rmse_df[rmse_site_col] = (\n",
    "    rmse_df[rmse_site_col]\n",
    "      .astype(int)\n",
    "      .astype(str)\n",
    "      .str.zfill(8)\n",
    "    )\n",
    "\n",
    "\n",
    "\n",
    "    merged = gdf.merge(\n",
    "        rmse_df[[rmse_site_col, rmse_val_col]],\n",
    "        left_on=geo_site_col,\n",
    "        right_on=rmse_site_col,\n",
    "        how=\"left\"\n",
    "    )\n",
    "\n",
    "    if \"drain_area_va\" in merged.columns:\n",
    "        merged[\"drain_area_va\"] = pd.to_numeric(merged[\"drain_area_va\"], errors=\"coerce\")\n",
    "        merged = merged.sort_values(by=\"drain_area_va\", ascending=False)\n",
    "\n",
    "\n",
    "    merged = merged[merged[rmse_val_col].notna()]\n",
    "\n",
    "\n",
    "    fig, ax = plt.subplots(figsize=figsize,dpi=120)\n",
    "    cmap = plt.get_cmap(\"binary_r\")\n",
    "    norm = mpl.colors.Normalize(vmin=0.84878, vmax=merged[\"NSE\"].max())\n",
    "\n",
    " \n",
    "    merged.plot(\n",
    "        ax=ax,\n",
    "        column=rmse_val_col,\n",
    "        cmap=cmap,\n",
    "        norm=norm,\n",
    "        alpha=1,\n",
    "        edgecolor=\"black\",\n",
    "        linewidth=0.5\n",
    "    )\n",
    "\n",
    "\n",
    "    merged = merged.set_geometry(\"geometry\")\n",
    "    merged.plot(\n",
    "        ax=ax,\n",
    "        color=\"red\",\n",
    "        markersize=30,\n",
    "        edgecolor=\"black\",\n",
    "        linewidth=0.8\n",
    "    )\n",
    "\n",
    "\n",
    "    cx.add_basemap(ax, crs=merged.crs,zoom = 8)\n",
    "\n",
    "    \n",
    "    sm = mpl.cm.ScalarMappable(cmap=cmap, norm=norm)\n",
    "    sm._A = []\n",
    "    cbar = fig.colorbar(sm, ax=ax, shrink=0.6)\n",
    "    cbar.set_label(legend_label, fontsize=14, weight=\"bold\")\n",
    "    cbar.ax.tick_params(labelsize=14)\n",
    "\n",
    "   \n",
    "    plt.xlabel(\"Longitude\", fontsize=12, weight=\"bold\")\n",
    "    plt.ylabel(\"Latitude\", fontsize=12, weight=\"bold\")\n",
    "    plt.tight_layout()\n",
    "    pdffig = \"FloridaNSE.pdf\"\n",
    "    plt.savefig(pdffig, format=\"pdf\", bbox_inches=\"tight\")\n",
    "    plt.show()"
   ]
  },
  {
   "cell_type": "code",
   "execution_count": 0,
   "metadata": {
    "application/vnd.databricks.v1+cell": {
     "cellMetadata": {},
     "inputWidgets": {},
     "nuid": "495790bf-08d7-486c-955a-b8e44f4dd76d",
     "showTitle": false,
     "tableResultSettingsMap": {},
     "title": ""
    }
   },
   "outputs": [],
   "source": [
    "plot_rmse_geodata_from_csv(\"clipped_gages_huc12_huc10_valid_Florida.geojson\",\"Jacksonville_output_new.csv\")"
   ]
  },
  {
   "cell_type": "code",
   "execution_count": 0,
   "metadata": {
    "application/vnd.databricks.v1+cell": {
     "cellMetadata": {},
     "inputWidgets": {},
     "nuid": "e715cb5a-2035-44ff-93c3-81a1c9399ce2",
     "showTitle": false,
     "tableResultSettingsMap": {},
     "title": ""
    }
   },
   "outputs": [],
   "source": []
  }
 ],
 "metadata": {
  "application/vnd.databricks.v1+notebook": {
   "computePreferences": null,
   "dashboards": [],
   "environmentMetadata": null,
   "inputWidgetPreferences": null,
   "language": "python",
   "notebookMetadata": {},
   "notebookName": "Figures 10, 11",
   "widgets": {}
  },
  "kernelspec": {
   "display_name": "myenv",
   "language": "python",
   "name": "python3"
  },
  "language_info": {
   "name": "python"
  }
 },
 "nbformat": 4,
 "nbformat_minor": 0
}
