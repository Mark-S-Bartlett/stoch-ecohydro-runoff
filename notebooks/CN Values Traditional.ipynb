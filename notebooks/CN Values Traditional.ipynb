{
 "cells": [
  {
   "cell_type": "markdown",
   "metadata": {
    "application/vnd.databricks.v1+cell": {
     "cellMetadata": {},
     "inputWidgets": {},
     "nuid": "de6718c6-8d12-45c4-aa4d-118115e773b6",
     "showTitle": false,
     "tableResultSettingsMap": {},
     "title": ""
    }
   },
   "source": [
    "\n",
    "# Calculate NRCS-CN value\n",
    "\n",
    "This notebook calculates the NRCS CN for each watershed by clipping data from this dataset:\n",
    "\n",
    "https://figshare.com/articles/dataset/GCN250_global_curve_number_datasets_for_hydrologic_modeling_and_design/7756202\n",
    "\n",
    "which is documented in the following paper https://www.nature.com/articles/s41597-019-0155-x"
   ]
  },
  {
   "cell_type": "code",
   "execution_count": 0,
   "metadata": {
    "application/vnd.databricks.v1+cell": {
     "cellMetadata": {
      "byteLimit": 2048000,
      "rowLimit": 10000
     },
     "inputWidgets": {},
     "nuid": "98c2a75e-9f25-446d-9d27-a62c11278b05",
     "showTitle": false,
     "tableResultSettingsMap": {},
     "title": ""
    }
   },
   "outputs": [],
   "source": [
    "#S3 bucket information or DBFS\n",
    "mount_name  = \"lwi-transition-zone\" #lwi-transition-zone OR jacksonville-data\n",
    "aws_bucket_name = \"lwi-transition-zone\" #lwi-transition-zone OR jacksonville-data\n",
    "\n",
    "local_dir_path = \"/local_disk0\"\n",
    "directory_path_data=\"data/hydrology/USGS_gage_parameters\"\n",
    "\n",
    "directory_path_data_CN= 'data/hydrology/CN'\n",
    "file_name_CN='GCN250_ARCII.tif'\n",
    "raster_path=f\"/dbfs/mnt/jacksonville-data/{directory_path_data_CN}/{file_name_CN}\"\n",
    "\n",
    "directory_for_baseflow_data=f\"data/hydrology/baseflow\"\n",
    "local_dir_path_baseflow = f'{local_dir_path}/hydrology/baseflow'\n",
    "s3_bucket_baseflow_dir = f\"/dbfs/mnt/{aws_bucket_name}/{directory_for_baseflow_data}\"\n",
    "\n",
    "valid_sites_indices = [5,9,12,17,18,19,21,23,25,27,28,29,35,36,38,39,40,43,45,46,47,58,59,63,68]\n",
    "\n",
    "\n",
    "#Jacksonville valid sites [0,1,2,3,4,5,7,8,9,11,12,13,14,16,17,18,19,20,21,22,23,24,25,26,28,31,32,33,37,38,39,40, 53, 54, 55, 56, 59, 60, 62, 63, 64, 65, 68,69, 70,71, 73,74, 75, 76, 77, 78, 79, 81, 83, 84]\n",
    "#LWI valid sites [5,9,12,17,18,19,21,23,25,27,28,29,35,36,38,39,40,43,45,46,47,58,59,63,68]"
   ]
  },
  {
   "cell_type": "markdown",
   "metadata": {
    "application/vnd.databricks.v1+cell": {
     "cellMetadata": {},
     "inputWidgets": {},
     "nuid": "c74a4a37-1acc-44f5-a257-9f36f0951eab",
     "showTitle": false,
     "tableResultSettingsMap": {},
     "title": ""
    }
   },
   "source": [
    "#### Import Libraries"
   ]
  },
  {
   "cell_type": "code",
   "execution_count": 0,
   "metadata": {
    "application/vnd.databricks.v1+cell": {
     "cellMetadata": {
      "byteLimit": 2048000,
      "rowLimit": 10000
     },
     "inputWidgets": {},
     "nuid": "ced72056-d3d0-4498-a168-c4fe0dfb766f",
     "showTitle": false,
     "tableResultSettingsMap": {},
     "title": ""
    }
   },
   "outputs": [],
   "source": [
    "%load_ext autoreload\n",
    "%autoreload 2\n",
    "\n",
    "from src.data.utils_s3 import *\n",
    "from src.data.utils import *\n",
    "from src.data.utils_files import *\n",
    "import os, shutil, pickle\n",
    "import rioxarray as rxr\n",
    "from src.data.utils_geo import *"
   ]
  },
  {
   "cell_type": "markdown",
   "metadata": {
    "application/vnd.databricks.v1+cell": {
     "cellMetadata": {},
     "inputWidgets": {},
     "nuid": "990a66b3-95d3-4b42-b000-dc95b4fb39f4",
     "showTitle": false,
     "tableResultSettingsMap": {},
     "title": ""
    }
   },
   "source": [
    "\n",
    "#### Mount s3 Bucket\n",
    "Mounting the s3 bucket is important because it extends the local files system. Without the bucket, the downloaded files may exceed the storage capacity of the computer.\n",
    "\n",
    "Here we mount the bucket with an instance profile, so the selected cluster must have the appropriate instance profile selected, which in this case is 'ec2-s3-access-role'. For reference see: \n",
    "- https://docs.databricks.com/en/aws/iam/instance-profile-tutorial.html\n",
    "- https://docs.databricks.com/en/dbfs/mounts.html\n",
    "\n",
    "Here, we also check for the directories where we will store files and create any missing directories."
   ]
  },
  {
   "cell_type": "code",
   "execution_count": 0,
   "metadata": {
    "application/vnd.databricks.v1+cell": {
     "cellMetadata": {
      "byteLimit": 2048000,
      "rowLimit": 10000
     },
     "inputWidgets": {},
     "nuid": "c1382815-6b5e-46d3-b31c-808ca17737eb",
     "showTitle": false,
     "tableResultSettingsMap": {},
     "title": ""
    }
   },
   "outputs": [],
   "source": [
    "mount_aws_bucket(aws_bucket_name, mount_name)"
   ]
  },
  {
   "cell_type": "markdown",
   "metadata": {
    "application/vnd.databricks.v1+cell": {
     "cellMetadata": {},
     "inputWidgets": {},
     "nuid": "c5b68130-79d0-4710-9b5f-21239a4de967",
     "showTitle": false,
     "tableResultSettingsMap": {},
     "title": ""
    }
   },
   "source": [
    "%md \n",
    "#### Move Data to the Local Drive"
   ]
  },
  {
   "cell_type": "code",
   "execution_count": 0,
   "metadata": {
    "application/vnd.databricks.v1+cell": {
     "cellMetadata": {
      "byteLimit": 2048000,
      "rowLimit": 10000
     },
     "inputWidgets": {},
     "nuid": "17db28a2-34d3-4cf9-a201-cb73999b222f",
     "showTitle": false,
     "tableResultSettingsMap": {},
     "title": ""
    }
   },
   "outputs": [],
   "source": [
    "create_dir_list = [local_dir_path_baseflow]\n",
    "create_directories(create_dir_list)\n",
    "for file_name in os.listdir(s3_bucket_baseflow_dir):\n",
    "    if os.path.exists(f\"/local_disk0/{file_name}\")!=1:\n",
    "        file_path = os.path.join(s3_bucket_baseflow_dir, file_name)\n",
    "        if os.path.isfile(file_path):\n",
    "            shutil.copy(file_path, os.path.join(local_dir_path_baseflow, file_name))"
   ]
  },
  {
   "cell_type": "markdown",
   "metadata": {
    "application/vnd.databricks.v1+cell": {
     "cellMetadata": {},
     "inputWidgets": {},
     "nuid": "2b9a8e56-5f3b-42a0-882f-b7b6fec5b369",
     "showTitle": false,
     "tableResultSettingsMap": {},
     "title": ""
    }
   },
   "source": [
    "%md \n",
    "### Load Gage Data"
   ]
  },
  {
   "cell_type": "code",
   "execution_count": 0,
   "metadata": {
    "application/vnd.databricks.v1+cell": {
     "cellMetadata": {
      "byteLimit": 2048000,
      "rowLimit": 10000
     },
     "inputWidgets": {},
     "nuid": "373abb07-eb3b-45ca-80bd-f2a1f36cc192",
     "showTitle": false,
     "tableResultSettingsMap": {},
     "title": ""
    }
   },
   "outputs": [],
   "source": [
    "directory = local_dir_path_baseflow\n",
    "with open(directory+'/usgs_gage_data.pickle', 'rb') as file:\n",
    "    clipped_gages = pickle.load(file)"
   ]
  },
  {
   "cell_type": "markdown",
   "metadata": {
    "application/vnd.databricks.v1+cell": {
     "cellMetadata": {},
     "inputWidgets": {},
     "nuid": "74613b97-0d3f-4c0b-9489-d1a479fa1882",
     "showTitle": false,
     "tableResultSettingsMap": {},
     "title": ""
    }
   },
   "source": [
    "### Get Basin Boundaries"
   ]
  },
  {
   "cell_type": "code",
   "execution_count": 0,
   "metadata": {
    "application/vnd.databricks.v1+cell": {
     "cellMetadata": {
      "byteLimit": 2048000,
      "rowLimit": 10000
     },
     "inputWidgets": {},
     "nuid": "49ab0c27-1cdf-4023-bb34-187749ab1316",
     "showTitle": false,
     "tableResultSettingsMap": {},
     "title": ""
    }
   },
   "outputs": [],
   "source": [
    "clipped_gages_huc12_huc10 = clipped_gages[(pd.to_numeric(clipped_gages['drain_area_va'], errors='coerce').astype(float)< 298.0) & (pd.to_numeric(clipped_gages['drain_area_va'], errors='coerce').astype(float) > 2.0)]\n",
    "clipped_gages_huc12_huc10_valid = clipped_gages_huc12_huc10.loc[valid_sites_indices]\n",
    "clipped_gages_huc12_huc10_valid['geometry2']=None\n",
    "clipped_gages_huc12_huc10_valid.set_geometry('geometry2', inplace=False).set_crs('EPSG:4326')\n",
    "clipped_gages_huc12_huc10_valid['geometry2'] = clipped_gages_huc12_huc10_valid['site_no'].apply(get_basin_geometry)"
   ]
  },
  {
   "cell_type": "markdown",
   "metadata": {
    "application/vnd.databricks.v1+cell": {
     "cellMetadata": {},
     "inputWidgets": {},
     "nuid": "4afb223b-6804-445d-9f5f-f8b471f0e00f",
     "showTitle": false,
     "tableResultSettingsMap": {},
     "title": ""
    }
   },
   "source": [
    "### Clip CN Dataset to Study Area"
   ]
  },
  {
   "cell_type": "code",
   "execution_count": 0,
   "metadata": {
    "application/vnd.databricks.v1+cell": {
     "cellMetadata": {
      "byteLimit": 2048000,
      "rowLimit": 10000
     },
     "inputWidgets": {},
     "nuid": "5f423246-b1e6-4f21-aebf-faa5d6b986c4",
     "showTitle": false,
     "tableResultSettingsMap": {},
     "title": ""
    }
   },
   "outputs": [],
   "source": [
    "\n",
    "\n",
    "# Load raster\n",
    "raster = rxr.open_rasterio(raster_path,masked=True,chunks=True)# masked=True,  chunks=True\n",
    "\n",
    "gdf = clipped_gages_huc12_huc10_valid.set_geometry(\"geometry2\").set_crs(\"EPSG:4326\")\n",
    "\n",
    "raster_crs = raster.rio.crs\n",
    "\n",
    "gdf_reprojected = gdf.to_crs(raster_crs)\n",
    "\n",
    "bbox = gdf_reprojected.total_bounds  # (minx, miny, maxx, maxy)\n",
    "raster_clipped = raster.rio.clip_box(minx=bbox[0], miny=bbox[1], maxx=bbox[2], maxy=bbox[3])"
   ]
  },
  {
   "cell_type": "markdown",
   "metadata": {
    "application/vnd.databricks.v1+cell": {
     "cellMetadata": {},
     "inputWidgets": {},
     "nuid": "c7d408f2-cca0-42fd-978b-a6b1496635b3",
     "showTitle": false,
     "tableResultSettingsMap": {},
     "title": ""
    }
   },
   "source": [
    "#### Plot the Watershed and CN data"
   ]
  },
  {
   "cell_type": "code",
   "execution_count": 0,
   "metadata": {
    "application/vnd.databricks.v1+cell": {
     "cellMetadata": {
      "byteLimit": 2048000,
      "rowLimit": 10000
     },
     "inputWidgets": {},
     "nuid": "1caee8bf-ba5d-4165-bf4a-e62a4417dcc8",
     "showTitle": false,
     "tableResultSettingsMap": {},
     "title": ""
    }
   },
   "outputs": [],
   "source": [
    "# Plot the raster\n",
    "fig, ax = plt.subplots(figsize=(10, 8))\n",
    "raster_clipped.plot(ax=ax, cmap=\"terrain\")  # Adjust cmap as needed\n",
    "\n",
    "# Plot the GeoDataFrame on top\n",
    "gdf_reprojected.plot(ax=ax, facecolor='none', edgecolor='red', linewidth=1.5)\n",
    "\n",
    "# Show the plot\n",
    "plt.show()\n",
    "\n",
    "#gdf_reprojected.iloc[0:1].plot()"
   ]
  },
  {
   "cell_type": "markdown",
   "metadata": {
    "application/vnd.databricks.v1+cell": {
     "cellMetadata": {},
     "inputWidgets": {},
     "nuid": "53e4dda9-062d-4b11-bfe3-84602f567bff",
     "showTitle": false,
     "tableResultSettingsMap": {},
     "title": ""
    }
   },
   "source": [
    "### Calculate Average CN for each Watershed"
   ]
  },
  {
   "cell_type": "code",
   "execution_count": 0,
   "metadata": {
    "application/vnd.databricks.v1+cell": {
     "cellMetadata": {
      "byteLimit": 2048000,
      "rowLimit": 10000
     },
     "inputWidgets": {},
     "nuid": "581816f1-a5ad-4af1-91b7-6986fce4c4e9",
     "showTitle": false,
     "tableResultSettingsMap": {},
     "title": ""
    }
   },
   "outputs": [],
   "source": [
    "average_values = []\n",
    "for huc8_in in gdf_reprojected.huc_cd.unique(): #[4:5]\n",
    "    #print(huc8_in)\n",
    "    for _, row in gdf_reprojected[gdf_reprojected.huc_cd==huc8_in].iterrows():\n",
    "        clipped = raster_clipped.rio.clip([row.geometry2], gdf.crs)\n",
    "        mean_value =np.nanmean(clipped.values)  # Convert to scalar\n",
    "        average_values.append(mean_value)\n",
    "        print(mean_value)"
   ]
  },
  {
   "cell_type": "code",
   "execution_count": 0,
   "metadata": {
    "application/vnd.databricks.v1+cell": {
     "cellMetadata": {},
     "inputWidgets": {},
     "nuid": "8f7d3be5-c919-473b-8622-caaa535b5038",
     "showTitle": false,
     "tableResultSettingsMap": {},
     "title": ""
    }
   },
   "outputs": [],
   "source": []
  }
 ],
 "metadata": {
  "application/vnd.databricks.v1+notebook": {
   "computePreferences": null,
   "dashboards": [],
   "environmentMetadata": {
    "base_environment": "",
    "environment_version": "2"
   },
   "inputWidgetPreferences": null,
   "language": "python",
   "notebookMetadata": {
    "pythonIndentUnit": 4
   },
   "notebookName": "CN Values Traditional",
   "widgets": {}
  },
  "language_info": {
   "name": "python"
  }
 },
 "nbformat": 4,
 "nbformat_minor": 0
}
